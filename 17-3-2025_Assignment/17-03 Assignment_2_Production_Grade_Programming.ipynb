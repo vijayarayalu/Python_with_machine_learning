{
 "cells": [
  {
   "cell_type": "markdown",
   "metadata": {
    "id": "77zLnpaNvNSp"
   },
   "source": [
    "## <u> Problem 1</u>\n",
    "\n",
    "### Create a class <code>Cylinder</code> which takes two attributes <code>radius</code> and <code>height</code>.\n",
    "\n",
    "### Create the following methods in this class:\n",
    "\n",
    "* ### method <code>volume()</code> which calculates the volume of the cyinder which is defined as $V  = \\pi r^2 h$\n",
    "\n",
    "* ### method <code>surface_area()</code> which calculates the area of the cyinder which is defined as $S  = 2\\pi r h$. Assume this is an open cylinder\n"
   ]
  },
  {
   "cell_type": "code",
   "execution_count": null,
   "metadata": {
    "id": "-cWkCZ5OzX0G"
   },
   "outputs": [
    {
     "name": "stdout",
     "output_type": "stream",
     "text": [
      "The cylinder volume is: 93.01935999999998\n",
      "The cylinder surface area is: 80.8864\n"
     ]
    }
   ],
   "source": [
    "# Write your code below. Take pi as 3.14\n",
    "class Cylinder:\n",
    "    def __init__(self,radius,height):\n",
    "        self.radius=radius\n",
    "        self.height=height\n",
    "        self.pi=3.14\n",
    "    def volume(self):\n",
    "        return (self.pi )* (self.radius**2) * (self.height)\n",
    "    \n",
    "    def surface_area(self):\n",
    "        return 2* (self.pi) * (self.radius) * (self.height)\n",
    "\n",
    "\n",
    "\n",
    "cylinder=Cylinder(2.3,5.6)\n",
    "print(\"The cylinder volume is:\",cylinder.volume())\n",
    "print(\"The cylinder surface area is:\", cylinder.surface_area())\n",
    "\n",
    "\n",
    "\n",
    "\n",
    "\n",
    "\n",
    "\n",
    "\n",
    "\n",
    "\n"
   ]
  },
  {
   "cell_type": "code",
   "execution_count": 1,
   "metadata": {
    "id": "tgS3mhN-18b_"
   },
   "outputs": [],
   "source": [
    "# Check for sample inputs\n",
    "\n",
    "\n",
    "\n",
    "\n",
    "\n"
   ]
  },
  {
   "cell_type": "markdown",
   "metadata": {
    "id": "KjPWYK0Rs8By"
   },
   "source": [
    "## <u>Problem 2</u>\n",
    "\n",
    "### You started your own money wallet where your customers can create their accounts and they can either deposit or withdraw money from this wallet.\n",
    "\n",
    "### Write a Python class <code>BankAccount</code> which takes the balance as an attribute. You can initialize the balance with 0 because any new account will have 0 rupees in their wallet. Next write two methods for your class :\n",
    "\n",
    "* #### <code>withdraw()</code> method which takes the amount to be withdrawn as an argument and returns the balance after the withdrawal\n",
    "\n",
    "* #### <code>deposit()</code> method which takes the amount to be deposited as an argument and returns the balance after the deposit.\n",
    "\n",
    "### Keep in mind that if the balance to be withdrawn exceeds the current balance, it should display a message that \"Not enough balance in your account\"\n"
   ]
  },
  {
   "cell_type": "code",
   "execution_count": 6,
   "metadata": {
    "id": "RxVZTrenzfHC"
   },
   "outputs": [
    {
     "name": "stdout",
     "output_type": "stream",
     "text": [
      "The amount deposited in to your account is 500 rs and the current account balance is 500 rs\n",
      "don't have an enough amount to withdraw\n"
     ]
    }
   ],
   "source": [
    "# Write your BankAccount class below\n",
    "\n",
    "class BankAccount:\n",
    "    def __init__(self):\n",
    "        self.balance=0\n",
    "        \n",
    "    def deposit(self,deposit_amount):\n",
    "        self.balance+=deposit_amount\n",
    "        print(f\"The amount deposited in to your account is {deposit_amount} rs and the current account balance is {self.balance} rs\")\n",
    "    \n",
    "    def withdraw(self,withdraw_amount):\n",
    "        if withdraw_amount > self.balance:\n",
    "            print(\"don't have an enough amount to withdraw\")\n",
    "        else:\n",
    "            self.balance-=withdraw_amount\n",
    "            print(f\"The amount withdrawn from your account is {withdraw_amount} rs and the current account balance is {self.balance} rs\")\n",
    "        \n",
    "        \n",
    "bank=BankAccount()\n",
    "bank.deposit(500)\n",
    "bank.withdraw(700)\n",
    "\n",
    "        \n",
    "\n",
    "\n",
    "\n",
    "\n",
    "\n",
    "\n",
    "\n",
    "\n",
    "\n",
    "\n",
    "\n",
    "\n",
    "\n",
    "\n"
   ]
  },
  {
   "cell_type": "code",
   "execution_count": null,
   "metadata": {
    "id": "N1Yhpkiws8B3"
   },
   "outputs": [],
   "source": [
    "# Create two instances of this class for two customers\n",
    "\n"
   ]
  },
  {
   "cell_type": "markdown",
   "metadata": {
    "id": "mSTxPcO3fWeX"
   },
   "source": [
    "### Next add some amount and withdraw some another amount for both the customers."
   ]
  },
  {
   "cell_type": "code",
   "execution_count": null,
   "metadata": {
    "id": "KpMdlB5Fs8B8"
   },
   "outputs": [],
   "source": [
    "# Deposit some amount and withdrawing some amount from the two accounts and check if your method works fine\n",
    "\n",
    "\n",
    "\n",
    "\n",
    "\n",
    "\n",
    "\n",
    "\n",
    "\n"
   ]
  },
  {
   "cell_type": "markdown",
   "metadata": {
    "id": "5qd8g8UUs8CM"
   },
   "source": [
    "## <u>Problem 3 </u>\n",
    "\n",
    "### Create a class <code>Time </code> which takes two inputs hours and minutes to instantiate.\n",
    "*  #### Construct a method <code>DisplayTime()</code> which displays the time in AM/PM formats. For example if the input is 14 hours and 45 mins, then this method will print \"The time is 2:45 PM\". If the inputted hours exceeds 23 then print the message \"The input hours should be less than 24\" and if the inputted minutes exceeds 59 then print the message \"The input minutes should be less than 60.\" Also if the input is 12 hours 30 minutes, then the displayed time would be 12:30 PM\n",
    "* #### Construct a method <code>DisplayRatio()</code> which should display the ratio of minutes to hours. For example, (8 hours and  16 mins) should display 2. Use <code>try</code>, <code>except</code> block to account for ZeroDivisionError."
   ]
  },
  {
   "cell_type": "code",
   "execution_count": 1,
   "metadata": {
    "id": "FBJy9Sq_s8CN"
   },
   "outputs": [
    {
     "name": "stdout",
     "output_type": "stream",
     "text": [
      "The time is 1:05 PM.\n",
      "The ratio of minutes to hours is 5\n"
     ]
    }
   ],
   "source": [
    "class Time:\n",
    "    def __init__(self,hours,minutes):\n",
    "        self.hours=hours #10\n",
    "        self.minutes=minutes #35\n",
    "        \n",
    "    def displaytime(self):\n",
    "        if  self.hours >=24:\n",
    "            print(\"The input hours should be less than 24......\")\n",
    "        elif self.minutes>=60:\n",
    "            print(\"The input minutes cannot exceed 59 \")\n",
    "        elif self.hours==0:\n",
    "            self.hours=12\n",
    "            print(f\"The time is {self.hours}:{self.minutes:02d} AM\")\n",
    "        elif self.hours==12:\n",
    "            self.hours=12\n",
    "            print(f\"The time is {self.hours}:{self.minutes:02d} PM\")\n",
    "            \n",
    "        elif self.hours<12 and self.minutes<=59:\n",
    "            print(f\"The time is {self.hours}:{self.minutes:02d} AM. \")\n",
    "        elif self.hours>=12 and self.minutes<=59:\n",
    "            self.hours=self.hours-12\n",
    "            print(f\"The time is {self.hours}:{self.minutes:02d} PM.\")\n",
    "    \n",
    "    def DisplayRatio(self):\n",
    "        try:\n",
    "            ratio = self.minutes // self.hours\n",
    "            print(f\"The ratio of minutes to hours is {ratio}\")\n",
    "        except ZeroDivisionError:\n",
    "            print(\"The ratio cannot be calculated as hours is zero.\")\n",
    "\n",
    "\n",
    "\n",
    "time=Time(13,5)\n",
    "time.displaytime()\n",
    "time.DisplayRatio()\n",
    "\n",
    "\n",
    "\n",
    "\n",
    "\n",
    "\n",
    "\n",
    "\n",
    "\n",
    "\n",
    "\n",
    "\n",
    "\n",
    "\n",
    "\n",
    "\n",
    "\n"
   ]
  },
  {
   "cell_type": "code",
   "execution_count": 3,
   "metadata": {
    "id": "zywXa51d6Eev"
   },
   "outputs": [
    {
     "name": "stdout",
     "output_type": "stream",
     "text": [
      "The time is 11:45 PM.\n",
      "The ratio of minutes to hours is 4\n",
      "The input hours should be less than 24......\n",
      "The ratio of minutes to hours is 1\n",
      "The time is 12:34 PM\n",
      "The ratio of minutes to hours is 2\n",
      "The input minutes cannot exceed 59 \n",
      "The ratio of minutes to hours is 4\n",
      "The time is 7:20 PM.\n",
      "The ratio of minutes to hours is 2\n",
      "The time is 2:15 AM. \n",
      "The ratio of minutes to hours is 7\n",
      "The time is 12:10 AM\n",
      "The ratio of minutes to hours is 0\n"
     ]
    }
   ],
   "source": [
    "# Check for few sample inputs of hours and mins\n",
    "hour_min_list = [(23,45), (34,50), (12,34), (14,67),(19,20), (2,15), (0, 10)]\n",
    "\n",
    "# Using a for loop display the corresponding 12 hour time format for the above hour_min_list\n",
    "for hours,minutes in hour_min_list:\n",
    "    time=Time(hours,minutes)\n",
    "    time.displaytime()\n",
    "    time.DisplayRatio()\n",
    "    \n",
    "\n",
    "\n",
    "\n",
    "\n",
    "\n",
    "\n",
    "# Also display the corresponding ratios for the above list\n",
    "\n",
    "\n"
   ]
  },
  {
   "cell_type": "markdown",
   "metadata": {
    "id": "mgcu1_SAjAqF"
   },
   "source": [
    "## <u>Problem 4: Employee Management System with Exception Handling</u>\n",
    "\n",
    "**Scenario:**\n",
    "\n",
    "A company manages employees, where each employee has a name, an employee ID, and a salary. Employees can receive promotions, which increase their salary. However, if an invalid salary increment is given (such as a negative value), the system should raise an exception.\n",
    "\n",
    "**Task:**\n",
    "Create a Employee class with the following attributes and methods:\n",
    "\n",
    "    Attributes:\n",
    "    - name (str), employee_id (str), and salary (float).\n",
    "    Methods:\n",
    "    - promote(increment): Increases the salary by the given amount. If the increment is negative, raise an InvalidSalaryIncrementException.\n",
    "    - display_info(): Prints employee details.\n",
    "\n",
    "Define a custom exception *InvalidSalaryIncrementException* that is raised when an invalid salary increment is provided.\n",
    "\n",
    "**Steps to Solve:**\n",
    "- Create an `Employee` class with the required attributes.\n",
    "- Define a custom exception `InvalidSalaryIncrementException`.\n",
    "- Implement the `promote(increment)` method that validates the increment before applying it.\n",
    "- Implement `display_info()` to show employee details.\n",
    "- Write a test case where a negative salary increment is attempted, and handle the exception gracefully.\n"
   ]
  },
  {
   "cell_type": "markdown",
   "metadata": {},
   "source": [
    "### **Test Cases for Employee Management System with Exception Handling**  \n",
    "\n",
    "#### **Test Case 1: Valid Salary Increment**  \n",
    "**Input:**  \n",
    "```python\n",
    "emp = Employee(\"Alice Johnson\", \"EMP1001\", 50000)\n",
    "emp.promote(5000)\n",
    "emp.display_info()\n",
    "```\n",
    "**Expected Output:**  \n",
    "```\n",
    "Alice Johnson has been promoted! New salary: $55000.00\n",
    "Employee ID: EMP1001 | Name: Alice Johnson | Salary: $55000.00\n",
    "```\n",
    "\n",
    "---\n",
    "\n",
    "#### **Test Case 2: Invalid Salary Increment (Negative Value)**  \n",
    "**Input:**  \n",
    "```python\n",
    "emp = Employee(\"Bob Smith\", \"EMP1002\", 60000)\n",
    "try:\n",
    "    emp.promote(-3000)\n",
    "except InvalidSalaryIncrementException as e:\n",
    "    print(\"Error:\", e)\n",
    "emp.display_info()\n",
    "```\n",
    "**Expected Output:**  \n",
    "```\n",
    "Error: Invalid increment: $-3000.00. It must be positive.\n",
    "Employee ID: EMP1002 | Name: Bob Smith | Salary: $60000.00\n",
    "```\n",
    "\n",
    "---\n",
    "\n",
    "#### **Test Case 3: Multiple Promotions**  \n",
    "**Input:**  \n",
    "```python\n",
    "emp = Employee(\"Charlie Brown\", \"EMP1003\", 45000)\n",
    "emp.promote(4000)\n",
    "emp.promote(6000)\n",
    "emp.display_info()\n",
    "```\n",
    "**Expected Output:**  \n",
    "```\n",
    "Charlie Brown has been promoted! New salary: $49000.00\n",
    "Charlie Brown has been promoted! New salary: $55000.00\n",
    "Employee ID: EMP1003 | Name: Charlie Brown | Salary: $55000.00\n",
    "```\n",
    "\n",
    "---\n",
    "\n",
    "#### **Test Case 4: Zero Salary Increment**  \n",
    "**Input:**  \n",
    "```python\n",
    "emp = Employee(\"David Miller\", \"EMP1004\", 70000)\n",
    "try:\n",
    "    emp.promote(0)\n",
    "except InvalidSalaryIncrementException as e:\n",
    "    print(\"Error:\", e)\n",
    "emp.display_info()\n",
    "```\n",
    "**Expected Output:**  \n",
    "```\n",
    "Error: Invalid increment: $0.00. It must be positive.\n",
    "Employee ID: EMP1004 | Name: David Miller | Salary: $70000.00\n",
    "```\n",
    "\n",
    "---\n",
    "\n",
    "### **Summary of Test Cases**\n",
    "| **Test Case** | **Input** | **Expected Output** |\n",
    "|--------------|----------|--------------------|\n",
    "| **Valid Salary Increment** | `promote(5000)` | Salary increases successfully |\n",
    "| **Invalid Salary Increment (Negative)** | `promote(-3000)` | Exception is raised |\n",
    "| **Multiple Promotions** | `promote(4000)`, `promote(6000)` | Salary updates twice correctly |\n",
    "| **Zero Salary Increment** | `promote(0)` | Exception is raised |\n",
    "\n"
   ]
  },
  {
   "cell_type": "code",
   "execution_count": 6,
   "metadata": {},
   "outputs": [
    {
     "name": "stdout",
     "output_type": "stream",
     "text": [
      "emp_name:Alice\n",
      "emp_id:E123\n",
      "emp_salary:50000\n",
      "emp_name:Alice\n",
      "emp_id:E123\n",
      "emp_salary:55000\n",
      "Exception: increment should be positive and greater than zero\n"
     ]
    }
   ],
   "source": [
    "class InvalidSalaryIncrementException(Exception):\n",
    "    \"\"\"Custom exception for invalid salary increment.\"\"\"\n",
    "    pass\n",
    "\n",
    "\n",
    "class Employee:\n",
    "    def __init__(self,emp_name,emp_id,emp_salary):\n",
    "        self.emp_name=emp_name\n",
    "        self.emp_id=emp_id\n",
    "        self.emp_salary=emp_salary\n",
    "        \n",
    "    def promote(self,increment):\n",
    "        if increment <=0:\n",
    "            raise InvalidSalaryIncrementException(\"increment should be positive and greater than zero\")\n",
    "            \n",
    "            \n",
    "        else:\n",
    "            self.emp_salary+=increment\n",
    "            return self.emp_salary\n",
    "        \n",
    "    def emp_info(self):\n",
    "        print(f\"emp_name:{self.emp_name}\\nemp_id:{self.emp_id}\\nemp_salary:{self.emp_salary}\")\n",
    "    \n",
    "    \n",
    "try:\n",
    "    emp1 = Employee(\"Alice\", \"E123\", 50000)\n",
    "    emp1.emp_info()\n",
    "    emp1.promote(5000)\n",
    "    emp1.emp_info()\n",
    "    emp1.promote(-2000) #error display\n",
    "except InvalidSalaryIncrementException as e:\n",
    "    print(f\"Exception: {e}\")\n",
    "        \n"
   ]
  },
  {
   "cell_type": "code",
   "execution_count": null,
   "metadata": {},
   "outputs": [],
   "source": []
  }
 ],
 "metadata": {
  "colab": {
   "provenance": []
  },
  "kernelspec": {
   "display_name": "Python 3",
   "language": "python",
   "name": "python3"
  },
  "language_info": {
   "codemirror_mode": {
    "name": "ipython",
    "version": 3
   },
   "file_extension": ".py",
   "mimetype": "text/x-python",
   "name": "python",
   "nbconvert_exporter": "python",
   "pygments_lexer": "ipython3",
   "version": "3.10.6"
  }
 },
 "nbformat": 4,
 "nbformat_minor": 1
}
